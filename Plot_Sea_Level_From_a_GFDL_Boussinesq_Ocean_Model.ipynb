{
  "nbformat": 4,
  "nbformat_minor": 0,
  "metadata": {
    "colab": {
      "provenance": []
    },
    "kernelspec": {
      "name": "python3",
      "display_name": "Python 3"
    },
    "language_info": {
      "name": "python"
    }
  },
  "cells": [
    {
      "cell_type": "markdown",
      "source": [
        "# Analyzing Global Sea Level in GFDL Ocean Models\n",
        "\n",
        "\n"
      ],
      "metadata": {
        "id": "c43Ac7X11pWJ"
      }
    },
    {
      "cell_type": "code",
      "execution_count": null,
      "metadata": {
        "id": "wP_7sDCA1b3d"
      },
      "outputs": [],
      "source": [
        "! pip  install momlevel intake intake-esm"
      ]
    },
    {
      "cell_type": "code",
      "source": [
        "import xarray as xr\n",
        "xr.set_options(display_style='html')\n",
        "import pandas as pd\n",
        "import numpy as np\n",
        "import matplotlib.pyplot as plt\n",
        "import momlevel\n",
        "import fsspec\n",
        "import gcsfs\n",
        "import intake\n",
        "import nc_time_axis\n",
        "\n",
        "%matplotlib inline"
      ],
      "metadata": {
        "id": "Y_vW1nrA2b_2"
      },
      "execution_count": null,
      "outputs": []
    },
    {
      "cell_type": "code",
      "source": [
        "cat_url = \"https://storage.googleapis.com/cmip6/pangeo-cmip6.json\"\n",
        "col = intake.open_esm_datastore(cat_url)\n",
        "col"
      ],
      "metadata": {
        "id": "pYyiBvJR7aAE"
      },
      "execution_count": null,
      "outputs": []
    },
    {
      "cell_type": "code",
      "source": [
        "datasets = col.search(\n",
        "    experiment_id=['historical'],\n",
        "    table_id=['Ofx','Omon'],\n",
        "    variable_id=['areacello','zos'],\n",
        "    grid_label='gn',\n",
        "    member_id='r1i1p1f1',\n",
        "    source_id=\"GFDL-ESM4\"\n",
        ")\n",
        "\n",
        "df = datasets.df"
      ],
      "metadata": {
        "id": "JC5wFyXC9AAO"
      },
      "execution_count": null,
      "outputs": []
    },
    {
      "cell_type": "code",
      "source": [
        "df"
      ],
      "metadata": {
        "id": "yqyw4AT_-3tD"
      },
      "execution_count": null,
      "outputs": []
    },
    {
      "cell_type": "code",
      "source": [
        "zstores = df.zstore.values\n",
        "print(zstores)\n",
        "\n",
        "fs = gcsfs.GCSFileSystem(token='anon', access='read_only')\n",
        "\n",
        "# create a MutableMapping from a store URL\n",
        "mappers = [fs.get_mapper(x) for x in zstores]\n",
        "\n",
        "# make sure to specify that metadata is consolidated\n",
        "ds = [xr.open_zarr(x, consolidated=True) for x in mappers]\n",
        "\n",
        "ds = xr.merge(ds)"
      ],
      "metadata": {
        "id": "MZ_IgSXU_lG6"
      },
      "execution_count": null,
      "outputs": []
    },
    {
      "cell_type": "code",
      "source": [
        "fig = plt.figure(figsize=(8,3), dpi=150)\n",
        "\n",
        "ax1 = plt.subplot(1,2,1)\n",
        "ds.areacello.plot(ax=ax1)\n",
        "_ = ax1.set_title(\"Cell Area\")\n",
        "\n",
        "ax2 = plt.subplot(1,2,2)\n",
        "ds.zos.isel(time=-1).plot(ax=ax2)\n",
        "_ = ax2.set_title(\"Dynamic Sea Surface Height\")\n",
        "\n",
        "plt.subplots_adjust(wspace=0.5)"
      ],
      "metadata": {
        "id": "3vtgRlZzBaeh"
      },
      "execution_count": null,
      "outputs": []
    },
    {
      "cell_type": "code",
      "source": [
        "ssh_global_monthly = ds.zos.weighted(ds.areacello).mean((\"y\",\"x\")).load()\n",
        "ssh_global_annual = momlevel.util.annual_average(ssh_global_monthly).load()"
      ],
      "metadata": {
        "id": "_GJ9T2pd4_cR"
      },
      "execution_count": null,
      "outputs": []
    },
    {
      "cell_type": "code",
      "source": [
        "fig = plt.figure(figsize=(8,4), dpi=150)\n",
        "ax = plt.subplot(1,1,1)\n",
        "\n",
        "ax.plot(ssh_global_monthly.time.values,ssh_global_monthly.values, linewidth=0.5, color=\"lightgray\")\n",
        "ax.plot(ssh_global_annual.time.values,ssh_global_annual.values, linewidth=1.2, color=\"red\")\n",
        "\n",
        "ax.set_title(\"Global Mean Dynamic Sea Surface Height\")\n",
        "ax.set_ylabel(\"m\")"
      ],
      "metadata": {
        "id": "Zo_OQOuz5KSR"
      },
      "execution_count": null,
      "outputs": []
    },
    {
      "cell_type": "code",
      "source": [
        "datasets = col.search(\n",
        "    experiment_id=['historical'],\n",
        "    table_id=['Ofx','Omon'],\n",
        "    variable_id=['volcello','thetao', 'so', 'areacello'],\n",
        "    grid_label='gn',\n",
        "    member_id='r1i1p1f1',\n",
        "    source_id=\"GFDL-ESM4\"\n",
        ")\n",
        "\n",
        "df = datasets.df\n"
      ],
      "metadata": {
        "id": "UH-1UtZk5LjY"
      },
      "execution_count": null,
      "outputs": []
    },
    {
      "cell_type": "code",
      "source": [
        "df"
      ],
      "metadata": {
        "id": "kNC5T8QF9oSy"
      },
      "execution_count": null,
      "outputs": []
    },
    {
      "cell_type": "code",
      "source": [
        "zstores = df.zstore.values\n",
        "print(zstores)\n",
        "\n",
        "fs = gcsfs.GCSFileSystem(token='anon', access='read_only')\n",
        "\n",
        "# create a MutableMapping from a store URL\n",
        "mappers = [fs.get_mapper(x) for x in zstores]\n",
        "\n",
        "# make sure to specify that metadata is consolidated\n",
        "ds = [xr.open_zarr(x, consolidated=True) for x in mappers]\n",
        "\n",
        "ds = xr.merge(ds)"
      ],
      "metadata": {
        "id": "5tHoF4P99o1d"
      },
      "execution_count": null,
      "outputs": []
    },
    {
      "cell_type": "code",
      "source": [
        "ds[\"deptho\"] = xr.open_zarr(\"https://extranet.gfdl.noaa.gov/~John.Krasting/models/GFDL-ESM4/deptho\").deptho.load()"
      ],
      "metadata": {
        "id": "3vT_zvXt7SE5"
      },
      "execution_count": null,
      "outputs": []
    },
    {
      "cell_type": "code",
      "source": [
        "ds"
      ],
      "metadata": {
        "id": "OHyGe1ikBnQ4"
      },
      "execution_count": null,
      "outputs": []
    },
    {
      "cell_type": "code",
      "source": [
        "steric = momlevel.steric(ds.isel(time=slice(-360,None)), domain=\"global\", coord_names={\"z\":\"lev\"})"
      ],
      "metadata": {
        "id": "04_uuYkrBu_3"
      },
      "execution_count": null,
      "outputs": []
    },
    {
      "cell_type": "code",
      "source": [
        "steric_change = steric[0].steric.load()"
      ],
      "metadata": {
        "id": "ccVXT5SoB2W5"
      },
      "execution_count": null,
      "outputs": []
    },
    {
      "cell_type": "code",
      "source": [],
      "metadata": {
        "id": "JUWXMwv9CXkj"
      },
      "execution_count": null,
      "outputs": []
    }
  ]
}