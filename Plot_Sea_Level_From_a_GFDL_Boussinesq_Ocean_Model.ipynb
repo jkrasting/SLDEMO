{
 "cells": [
  {
   "cell_type": "markdown",
   "metadata": {
    "id": "c43Ac7X11pWJ"
   },
   "source": [
    "# Analyzing Global Sea Level in GFDL Ocean Models\n",
    "\n",
    "<i>John Krasting, Jacob Steinberg, on behalf of the GFDL Oceans and Cryosphere Division</i>\n",
    "\n",
    "In this notebook, we will conduct a simple analysis of global sea level to demonstrate the capabilities of GFDL's models and the domain knowledge needed to interpret the modeling products."
   ]
  },
  {
   "cell_type": "markdown",
   "metadata": {},
   "source": [
    "### Contemporary Sea Level Budget\n",
    "\n",
    "Observed global sea level is rise is dominated by two main factors:\n",
    "\n",
    "<img src=\"https://www.ipcc.ch/report/ar6/wg1/downloads/figures/IPCC_AR6_WGI_CCBox_9_1_Figure_1.png\">\n",
    "\n",
    "* Ocean warming and thermal expansion\n",
    "* Ice Sheet melt contributions"
   ]
  },
  {
   "cell_type": "markdown",
   "metadata": {},
   "source": [
    "### Processes Driving Sea Level Change"
   ]
  },
  {
   "cell_type": "markdown",
   "metadata": {},
   "source": [
    "In addition to these two primary drivers, other factors influence sea level at the regional and local levels.\n",
    "\n",
    "<img src=\"https://miro.medium.com/v2/resize:fit:1400/format:webp/1*UYQ1hzn-1cBp_3NYlQir6A.png\">\n",
    "\n",
    "Some of these features are represented in GFDL's ocean and climate models:\n",
    "* Ocean warming\n",
    "* Ocean circulation changes\n",
    "* Hydrological changes (precipatation, evaporation, runoff)\n",
    "* Atmospheric phenomenon (winds, storms)\n",
    "\n",
    "Others are areas of active development\n",
    "* Coupled interactive ice sheet models\n",
    "* Land processes (salt intrusion, innundation, groundwater extraction)\n",
    "\n",
    "<i>To date, no global climate model represents all of the drivers of sea level change.</i>"
   ]
  },
  {
   "cell_type": "markdown",
   "metadata": {},
   "source": [
    "### Accessing GFDL's Climate Model Output\n",
    "\n",
    "GFDL participates in the Coupled Model Intercomparison Project (CMIP). This is one of the more visibile products GFDL contributes to scientific communitity, enabling fundamental and applied research of climate change and impacts as well as informing major synthesis reports, such as the IPCC and National Climate Assessment.\n",
    "\n",
    "GFDL had versions of the OM4 ocean model that participated in CMIP6:\n",
    "* GFDL-CM4 (0.25-degree eddy-permitting horizontal resolution)\n",
    "* GFDL-ESM4 (0.5-degree horizontal resolution)\n",
    "* GFDL-SPEAR (1.0-degree horizontal resolution)\n",
    "\n",
    "<i>Here, we will use results from the ESM4 model which provides a compromise between resolution and data volume</i>\n",
    "\n",
    "We will also access GFDL's data through <a href=\"https://console.cloud.google.com/marketplace/product/noaa-public/cmip6\">NOAA's Public Datasets on Google Cloud</a>  CMIP6 is organized through the World Climate Research Programme (WCRP) and the data on Google Cloud were processed and uploaded by the Pangeo Project.  (Similar data also exist on Amazon S3)\n",
    "\n",
    "<img src=\"https://i.ytimg.com/vi/10rzdGCAIYY/mqdefault.jpg\">"
   ]
  },
  {
   "cell_type": "markdown",
   "metadata": {},
   "source": [
    "### Software Tools\n",
    "\n",
    "This Jupyter notebook will use a number of Python-based analysis tools:\n",
    "* Standard libraries (NumPy, Pandas, Matplotlib)\n",
    "* xarray\n",
    "* momlevel\n",
    "\n",
    "The `momlevel` package is a collection of sea-level specific routines developed at GFDL to aid the analysis of MOM6 ocean model results <i>(Krasting et al., in revision)</i>  For more details, see https://momlevel.readthedocs.io/en/v0.0.7/objective.html"
   ]
  },
  {
   "cell_type": "markdown",
   "metadata": {},
   "source": [
    "### Setup the Software Environment"
   ]
  },
  {
   "cell_type": "code",
   "execution_count": null,
   "metadata": {
    "id": "wP_7sDCA1b3d"
   },
   "outputs": [],
   "source": [
    "# Do this once!  After installing these tools, go to:\n",
    "#    Runtime --> Restart Session\n",
    "\n",
    "! pip  install momlevel intake intake-esm"
   ]
  },
  {
   "cell_type": "code",
   "execution_count": null,
   "metadata": {
    "id": "Y_vW1nrA2b_2"
   },
   "outputs": [],
   "source": [
    "# Load software packages\n",
    "import xarray as xr\n",
    "\n",
    "xr.set_options(display_style=\"html\")\n",
    "\n",
    "import fsspec\n",
    "import gcsfs\n",
    "import intake\n",
    "import matplotlib.pyplot as plt\n",
    "import momlevel\n",
    "import nc_time_axis\n",
    "import numpy as np\n",
    "import pandas as pd\n",
    "\n",
    "%matplotlib inline"
   ]
  },
  {
   "cell_type": "markdown",
   "metadata": {},
   "source": [
    "### Load GFDL-ESM4 Sea-Surface Height (`zos`) Data from Google Cloud"
   ]
  },
  {
   "cell_type": "code",
   "execution_count": null,
   "metadata": {
    "id": "pYyiBvJR7aAE"
   },
   "outputs": [],
   "source": [
    "# Load the catalog of datasets on Google Cloud\n",
    "cat_url = \"https://storage.googleapis.com/cmip6/pangeo-cmip6.json\"\n",
    "col = intake.open_esm_datastore(cat_url)\n",
    "col"
   ]
  },
  {
   "cell_type": "code",
   "execution_count": null,
   "metadata": {
    "id": "JC5wFyXC9AAO"
   },
   "outputs": [],
   "source": [
    "# Refine data to our requested list\n",
    "datasets = col.search(\n",
    "    experiment_id=[\"historical\"],\n",
    "    table_id=[\"Ofx\", \"Omon\"],\n",
    "    variable_id=[\"areacello\", \"zos\"],\n",
    "    grid_label=\"gn\",\n",
    "    member_id=\"r1i1p1f1\",\n",
    "    source_id=\"GFDL-ESM4\",\n",
    ")\n",
    "\n",
    "df = datasets.df\n",
    "df"
   ]
  },
  {
   "cell_type": "code",
   "execution_count": null,
   "metadata": {
    "id": "MZ_IgSXU_lG6"
   },
   "outputs": [],
   "source": [
    "# Connect to Google Cloud\n",
    "fs = gcsfs.GCSFileSystem(token=\"anon\", access=\"read_only\")\n",
    "\n",
    "# Open Zarr stores\n",
    "zstores = df.zstore.values\n",
    "mappers = [fs.get_mapper(x) for x in zstores]\n",
    "\n",
    "# Convert to Xarray Dataset\n",
    "ds = [xr.open_zarr(x, consolidated=True) for x in mappers]\n",
    "ds = xr.merge(ds)\n",
    "\n",
    "# Define a wet mask for use later\n",
    "ds[\"wet\"] = xr.where(ds.zos.isel(time=0).isnull(), 0.0, 1.0)\n",
    "\n",
    "ds"
   ]
  },
  {
   "cell_type": "code",
   "execution_count": null,
   "metadata": {
    "id": "3vtgRlZzBaeh"
   },
   "outputs": [],
   "source": [
    "# Make a simple plot to verify areacello and zos look reasonable\n",
    "fig = plt.figure(figsize=(8, 2), dpi=150)\n",
    "\n",
    "ax1 = plt.subplot(1, 2, 1)\n",
    "ds.areacello.plot(ax=ax1)\n",
    "_ = ax1.set_title(\"Cell Area\")\n",
    "\n",
    "ax2 = plt.subplot(1, 2, 2, facecolor=\"gray\")\n",
    "ds.zos.isel(time=-1).plot(ax=ax2)\n",
    "_ = ax2.set_title(\"Dynamic Sea Surface Height\")\n",
    "\n",
    "plt.subplots_adjust(wspace=0.5)"
   ]
  },
  {
   "cell_type": "markdown",
   "metadata": {},
   "source": [
    "### Extract Data at US Tide Gauge Locations"
   ]
  },
  {
   "cell_type": "markdown",
   "metadata": {},
   "source": [
    "In consultation with CO-OPS/NOS, the `momlevel` package includes routines for extracting time series of sea level for many \"high priority\" US Tide Gauge locations:\n",
    "\n",
    "<img src=\"https://momlevel.readthedocs.io/en/v0.0.7/_images/us_tide_gauge_locations.png\">"
   ]
  },
  {
   "cell_type": "code",
   "execution_count": null,
   "metadata": {},
   "outputs": [],
   "source": [
    "ds_tide_gauge = momlevel.extract_tidegauge(\n",
    "    ds.zos,\n",
    "    ds.lon,\n",
    "    ds.lat,\n",
    "    mask=ds.wet,\n",
    "    threshold=75.0\n",
    ")\n",
    "\n",
    "ds_tide_gauge"
   ]
  },
  {
   "cell_type": "code",
   "execution_count": null,
   "metadata": {},
   "outputs": [],
   "source": [
    "location = \"NEW_YORK\"\n",
    "\n",
    "# Fetch the data\n",
    "data = ds_tide_gauge[location].sel(time=slice(\"1981-01-01\",\"2014-12-31\")).load()\n",
    "data = data - data[0]\n",
    "data_annual = momlevel.util.annual_average(data)\n",
    "\n",
    "# Make a plot\n",
    "fig = plt.figure(figsize=(6,2.5), dpi=150)\n",
    "ax = plt.subplot(1,1,1)\n",
    "ax.plot(data.time,data,linewidth=0.4,color=\"gray\")\n",
    "ax.plot(data_annual.time,data_annual,linewidth=0.8,color=\"red\", label=location)\n",
    "ax.set_title(\"GFDL-ESM4 Dynamic Sea Surface Height Anomaly\")\n",
    "ax.set_ylabel(\"m\")\n",
    "ax.legend(loc=2)"
   ]
  },
  {
   "cell_type": "markdown",
   "metadata": {},
   "source": [
    "### Global Dynamic Sea Surface Height (`zos`)"
   ]
  },
  {
   "cell_type": "code",
   "execution_count": null,
   "metadata": {
    "id": "_GJ9T2pd4_cR"
   },
   "outputs": [],
   "source": [
    "ssh_global_monthly = ds.zos.weighted(ds.areacello).mean((\"y\",\"x\")).load()\n",
    "ssh_global_annual = momlevel.util.annual_average(ssh_global_monthly).load()"
   ]
  },
  {
   "cell_type": "code",
   "execution_count": null,
   "metadata": {
    "id": "Zo_OQOuz5KSR"
   },
   "outputs": [],
   "source": [
    "fig = plt.figure(figsize=(8,4), dpi=150)\n",
    "ax = plt.subplot(1,1,1)\n",
    "\n",
    "ax.plot(ssh_global_monthly.time.values,ssh_global_monthly.values, linewidth=0.5, color=\"lightgray\")\n",
    "ax.plot(ssh_global_annual.time.values,ssh_global_annual.values, linewidth=1.2, color=\"red\")\n",
    "\n",
    "ax.set_title(\"Global Mean Dynamic Sea Surface Height\")\n",
    "ax.set_ylim(-1,1)\n",
    "ax.set_ylabel(\"m\")"
   ]
  },
  {
   "cell_type": "markdown",
   "metadata": {},
   "source": [
    "<div style=\"background-color:pink; padding: 10px; width: 90%; border-radius: 15px;\">\n",
    "\n",
    "#### <i>Key Takeaways So Far:</i>\n",
    "* The sea surface height field defined by CMIP has a very special definition: it is relative to a global mean of zero.\n",
    "* Not knowing this, plotting `zos` gives you a <i>relative</i> change in the <i>dynamic</i> and <i>freshwater</i> contributions to sea level.\n",
    "* Further, this is a Boussinesq (volume-conserving) model. The thermosteric component of SLR is not included in this variable and must be diagnosed offline\n",
    "</div>\n"
   ]
  },
  {
   "cell_type": "markdown",
   "metadata": {},
   "source": [
    "### Plot the Global Steric Sea Level Change"
   ]
  },
  {
   "cell_type": "markdown",
   "metadata": {},
   "source": [
    "In order to the magnitude of the global steric change, we must consider the warming of the ocean. We will calculate a density change due to temperature and salinity changes in the model and convert that to an effective column height change using the model's reference density ($p_0$ = 1035 kg m-3).\n",
    "\n",
    "\n",
    "\n",
    "From: Griffies and Greatbatch 2012.\n",
    "\n",
    "We now need the following fields:\n",
    "* 4D potential temperature\n",
    "* 4D salinity\n",
    "* 4D ocean model cell volume"
   ]
  },
  {
   "cell_type": "code",
   "execution_count": null,
   "metadata": {
    "id": "UH-1UtZk5LjY"
   },
   "outputs": [],
   "source": [
    "datasets = col.search(\n",
    "    experiment_id=[\"historical\"],\n",
    "    table_id=[\"Ofx\", \"Omon\"],\n",
    "    variable_id=[\"volcello\", \"thetao\", \"so\", \"areacello\"],\n",
    "    grid_label=\"gn\",\n",
    "    member_id=\"r1i1p1f1\",\n",
    "    source_id=\"GFDL-ESM4\",\n",
    ")\n",
    "\n",
    "df = datasets.df\n",
    "df"
   ]
  },
  {
   "cell_type": "code",
   "execution_count": null,
   "metadata": {
    "id": "5tHoF4P99o1d"
   },
   "outputs": [],
   "source": [
    "# Connect to Google Cloud\n",
    "fs = gcsfs.GCSFileSystem(token='anon', access='read_only')\n",
    "\n",
    "# Open Zarr stores\n",
    "zstores = df.zstore.values\n",
    "mappers = [fs.get_mapper(x) for x in zstores]\n",
    "\n",
    "# Convert to Xarray Dataset\n",
    "ds = [xr.open_zarr(x, consolidated=True) for x in mappers]\n",
    "ds = xr.merge(ds)\n",
    "\n",
    "# We also need the model's bathymetery for partial bottom cells\n",
    "ds[\"deptho\"] = xr.open_zarr(\"https://extranet.gfdl.noaa.gov/~John.Krasting/models/GFDL-ESM4/deptho\").deptho.load()\n",
    "ds"
   ]
  },
  {
   "cell_type": "code",
   "execution_count": null,
   "metadata": {
    "id": "04_uuYkrBu_3"
   },
   "outputs": [],
   "source": [
    "# Use momlevel to calculate the steric change over the last 30 years of the simulation\n",
    "\n",
    "steric = momlevel.steric(\n",
    "    ds.isel(time=slice(-360, None)), domain=\"global\", coord_names={\"z\": \"lev\"}\n",
    ")\n",
    "\n",
    "steric_change = steric[0].steric.load()"
   ]
  },
  {
   "cell_type": "code",
   "execution_count": null,
   "metadata": {
    "id": "JUWXMwv9CXkj"
   },
   "outputs": [],
   "source": [
    "# Make a plot\n",
    "fig = plt.figure(figsize=(6,4))\n",
    "ax = plt.subplot(1,1,1)\n",
    "ax.plot(steric_change.time, steric_change*100)\n",
    "ax.grid(True)\n",
    "ax.set_title(\"GFDL-ESM4 Global Steric Sea Level Rise\")\n",
    "ax.set_ylabel(\"cm\")"
   ]
  },
  {
   "cell_type": "markdown",
   "metadata": {},
   "source": [
    "### Comparison With Satellite Observations"
   ]
  },
  {
   "cell_type": "markdown",
   "metadata": {},
   "source": [
    "<i>From NOAA/NESDIS:</i><br>\n",
    "<img src=\"https://www.star.nesdis.noaa.gov/socd/lsa/SeaLevelRise/slr/slr_sla_gbl_free_txj1j2_90_500.png\">"
   ]
  },
  {
   "cell_type": "markdown",
   "metadata": {},
   "source": [
    "### Building Our Next Generation Model - OM5\n",
    "\n",
    "* Sea level science is a driving application of the model development\n",
    "* Non-Boussinesq (R. Hallberg, J. Steinberg)\n",
    "* Dynamic Ice Sheets (O. Sergienko, A. Huth, N. Schlegel, M. Harrison, and R. Hallberg)"
   ]
  },
  {
   "cell_type": "markdown",
   "metadata": {},
   "source": [
    "<a href=\"https://drive.google.com/drive/folders/1o2E_Z2bIcBwvuZMts34JVEGqyE_QD_Zx\">.</a>"
   ]
  }
 ],
 "metadata": {
  "colab": {
   "provenance": []
  },
  "kernelspec": {
   "display_name": "Python 3 (ipykernel)",
   "language": "python",
   "name": "python3"
  },
  "language_info": {
   "codemirror_mode": {
    "name": "ipython",
    "version": 3
   },
   "file_extension": ".py",
   "mimetype": "text/x-python",
   "name": "python",
   "nbconvert_exporter": "python",
   "pygments_lexer": "ipython3",
   "version": "3.11.7"
  }
 },
 "nbformat": 4,
 "nbformat_minor": 4
}
